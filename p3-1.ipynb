{
 "cells": [
  {
   "cell_type": "code",
   "execution_count": 1,
   "metadata": {
    "collapsed": true,
    "pycharm": {
     "is_executing": false
    }
   },
   "outputs": [],
   "source": [
    "from snn.Model import Model\n",
    "from snn.LIF import LIF\n",
    "from snn.Synapse import Synapse\n",
    "import matplotlib.pyplot as plt"
   ]
  },
  {
   "cell_type": "code",
   "execution_count": 2,
   "outputs": [],
   "source": [
    "model = Model([1, 1], LIF, Synapse)"
   ],
   "metadata": {
    "collapsed": false,
    "pycharm": {
     "name": "#%%\n",
     "is_executing": false
    }
   }
  },
  {
   "cell_type": "code",
   "execution_count": 3,
   "outputs": [],
   "source": [
    "# add spikes for all dt from -5 to 5\n",
    "time = 0\n",
    "model.add_spike(0, 0, time)\n",
    "for i in range(1, 6):\n",
    "    time += i\n",
    "    model.add_spike(1, 0, time)\n",
    "    time += i\n",
    "    model.add_spike(0, 0, time)\n",
    "    "
   ],
   "metadata": {
    "collapsed": false,
    "pycharm": {
     "name": "#%%\n",
     "is_executing": false
    }
   }
  },
  {
   "cell_type": "code",
   "execution_count": 4,
   "outputs": [
    {
     "data": {
      "text/plain": "([0, 1, -1, 0, 2, -2, 0, 3, -3, 0, 4, -4, 0, 5, -5, 0],\n [0.0,\n  8.187307529139431e-05,\n  -6.549846025938333e-05,\n  0.0,\n  6.703200459012848e-05,\n  -5.36256036935967e-05,\n  0.0,\n  5.4881163598419214e-05,\n  -4.390493089634351e-05,\n  0.0,\n  4.493289640272735e-05,\n  -3.594631713654817e-05,\n  0.0,\n  3.678794410977293e-05,\n  -2.9430355299564503e-05,\n  0.0])"
     },
     "metadata": {},
     "output_type": "execute_result",
     "execution_count": 4
    }
   ],
   "source": [
    "chart_data_x = []\n",
    "chart_data_y = []\n",
    "last_spike = model.next_step()\n",
    "weight = model.synapses[0, 0, 0].weight\n",
    "while not model.is_queue_empty():\n",
    "    spike_time = model.next_step()\n",
    "    new_weight = model.synapses[0, 0, 0].weight\n",
    "    dt = spike_time - last_spike\n",
    "    dweight = new_weight - weight\n",
    "    chart_data_y.append(dweight)\n",
    "    if dweight >= 0:\n",
    "        chart_data_x.append(dt)\n",
    "    else:\n",
    "        chart_data_x.append(-dt)\n",
    "    last_spike = spike_time\n",
    "    weight = new_weight\n",
    "\n",
    "chart_data_x, chart_data_y"
   ],
   "metadata": {
    "collapsed": false,
    "pycharm": {
     "name": "#%%\n",
     "is_executing": false
    }
   }
  },
  {
   "cell_type": "code",
   "execution_count": 5,
   "outputs": [
    {
     "data": {
      "text/plain": "<matplotlib.collections.PathCollection at 0x7fa7915ca5b0>"
     },
     "metadata": {},
     "output_type": "execute_result",
     "execution_count": 5
    },
    {
     "data": {
      "text/plain": "<Figure size 432x288 with 1 Axes>",
      "image/png": "[encoded data removed]"
     },
     "metadata": {
      "needs_background": "light"
     },
     "output_type": "display_data"
    }
   ],
   "source": [
    "plt.scatter(chart_data_x, chart_data_y)\n"
   ],
   "metadata": {
    "collapsed": false,
    "pycharm": {
     "name": "#%%\n",
     "is_executing": false
    }
   }
  }
 ],
 "metadata": {
  "kernelspec": {
   "display_name": "Python 3",
   "language": "python",
   "name": "python3"
  },
  "language_info": {
   "codemirror_mode": {
    "name": "ipython",
    "version": 2
   },
   "file_extension": ".py",
   "mimetype": "text/x-python",
   "name": "python",
   "nbconvert_exporter": "python",
   "pygments_lexer": "ipython2",
   "version": "2.7.6"
  },
  "pycharm": {
   "stem_cell": {
    "cell_type": "raw",
    "source": [],
    "metadata": {
     "collapsed": false
    }
   }
  }
 },
 "nbformat": 4,
 "nbformat_minor": 0
}