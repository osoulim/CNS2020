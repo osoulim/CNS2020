{
 "cells": [
  {
   "cell_type": "code",
   "execution_count": 1,
   "metadata": {
    "collapsed": true,
    "pycharm": {
     "is_executing": false
    }
   },
   "outputs": [],
   "source": [
    "# Imports\n",
    "from snn.Model import Model\n",
    "from snn.LIF import LIF\n",
    "from snn.Synapse import Synapse\n",
    "import matplotlib.pyplot as plt"
   ]
  },
  {
   "cell_type": "code",
   "execution_count": 21,
   "metadata": {
    "pycharm": {
     "is_executing": false,
     "name": "#%%\n"
    }
   },
   "outputs": [],
   "source": [
    "# Create model\n",
    "model = Model([1, 1], LIF, Synapse)"
   ]
  },
  {
   "cell_type": "code",
   "execution_count": 22,
   "metadata": {
    "pycharm": {
     "is_executing": false,
     "name": "#%%\n"
    }
   },
   "outputs": [],
   "source": [
    "# Add spikes for all dt from -5 to 5\n",
    "time = 0\n",
    "model.add_spike(0, 0, time)\n",
    "for i in range(1, 10):\n",
    "    time += i / 2\n",
    "    model.add_spike(1, 0, time)\n",
    "    time += i / 2\n",
    "    model.add_spike(0, 0, time)\n",
    "    "
   ]
  },
  {
   "cell_type": "code",
   "execution_count": 23,
   "metadata": {
    "pycharm": {
     "is_executing": false,
     "name": "#%%\n"
    }
   },
   "outputs": [
    {
     "data": {
      "text/plain": [
       "([0.5,\n",
       "  -0.5,\n",
       "  1.0,\n",
       "  -1.0,\n",
       "  1.5,\n",
       "  -1.5,\n",
       "  2.0,\n",
       "  -2.0,\n",
       "  2.5,\n",
       "  -2.5,\n",
       "  3.0,\n",
       "  -3.0,\n",
       "  3.5,\n",
       "  -3.5,\n",
       "  4.0,\n",
       "  -4.0,\n",
       "  4.5,\n",
       "  -4.5],\n",
       " [9.048374178555196e-05,\n",
       "  -7.238699345735178e-05,\n",
       "  8.187307529139431e-05,\n",
       "  -6.549846025938333e-05,\n",
       "  7.408182205337344e-05,\n",
       "  -5.926545766643532e-05,\n",
       "  6.703200459012848e-05,\n",
       "  -5.36256036935967e-05,\n",
       "  6.0653065959148655e-05,\n",
       "  -4.852245278674783e-05,\n",
       "  5.4881163598419214e-05,\n",
       "  -4.390493089634351e-05,\n",
       "  4.965853036920098e-05,\n",
       "  -3.972682431130359e-05,\n",
       "  4.493289640272735e-05,\n",
       "  -3.594631713654817e-05,\n",
       "  4.0656965965890635e-05,\n",
       "  -3.252557278576873e-05])"
      ]
     },
     "execution_count": 23,
     "metadata": {},
     "output_type": "execute_result"
    }
   ],
   "source": [
    "# Get data from spikes\n",
    "chart_data_x = []\n",
    "chart_data_y = []\n",
    "last_spike = model.next_step()\n",
    "weight = model.synapses[0, 0, 0].weight\n",
    "while not model.is_queue_empty():\n",
    "    spike_time = model.next_step()\n",
    "    new_weight = model.synapses[0, 0, 0].weight\n",
    "    dt = spike_time - last_spike\n",
    "    dweight = new_weight - weight\n",
    "    if dweight > 0:\n",
    "        chart_data_x.append(dt)\n",
    "        chart_data_y.append(dweight)\n",
    "    elif dweight < 0:\n",
    "        chart_data_x.append(-dt)\n",
    "        chart_data_y.append(dweight)\n",
    "    last_spike = spike_time\n",
    "    weight = new_weight\n",
    "\n",
    "chart_data_x, chart_data_y"
   ]
  },
  {
   "cell_type": "code",
   "execution_count": 24,
   "metadata": {
    "pycharm": {
     "is_executing": false,
     "name": "#%%\n"
    }
   },
   "outputs": [
    {
     "data": {
      "text/plain": [
       "<matplotlib.collections.PathCollection at 0x7f67d47328e0>"
      ]
     },
     "execution_count": 24,
     "metadata": {},
     "output_type": "execute_result"
    },
    {
     "data": {
      "image/png": "[encoded data removed]",
      "text/plain": [
       "<Figure size 432x288 with 1 Axes>"
      ]
     },
     "metadata": {
      "needs_background": "light"
     },
     "output_type": "display_data"
    }
   ],
   "source": [
    "# Draw the chart\n",
    "plt.scatter(chart_data_x, chart_data_y)\n"
   ]
  }
 ],
 "metadata": {
  "kernelspec": {
   "display_name": "Python 3",
   "language": "python",
   "name": "python3"
  },
  "language_info": {
   "codemirror_mode": {
    "name": "ipython",
    "version": 3
   },
   "file_extension": ".py",
   "mimetype": "text/x-python",
   "name": "python",
   "nbconvert_exporter": "python",
   "pygments_lexer": "ipython3",
   "version": "3.7.3"
  },
  "pycharm": {
   "stem_cell": {
    "cell_type": "raw",
    "metadata": {
     "collapsed": false
    },
    "source": []
   }
  }
 },
 "nbformat": 4,
 "nbformat_minor": 1
}
